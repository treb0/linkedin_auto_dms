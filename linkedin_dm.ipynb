{
 "cells": [
  {
   "cell_type": "code",
   "execution_count": 1,
   "metadata": {},
   "outputs": [],
   "source": [
    "from selenium import webdriver\n",
    "from selenium.webdriver.support.ui import WebDriverWait, Select\n",
    "from selenium.webdriver.support import expected_conditions as EC\n",
    "from selenium.webdriver.common.by import By\n",
    "from selenium.webdriver.common.keys import Keys\n",
    "from selenium.webdriver.common.action_chains import ActionChains\n",
    "from datetime import datetime\n",
    "import traceback, os\n",
    "from datetime import timedelta\n",
    "import pandas as pd\n",
    "import time\n",
    "import sys\n",
    "import pygsheets as py\n",
    "import numpy as np\n",
    "\n",
    "from IPython.display import clear_output\n",
    "\n",
    "from bs4 import BeautifulSoup\n",
    "import json\n",
    "\n",
    "import importlib  \n",
    "\n",
    "# local imports\n",
    "\n",
    "selenium_driver = importlib.import_module(\"selenium-driver.chromedriver\")"
   ]
  },
  {
   "cell_type": "code",
   "execution_count": 2,
   "metadata": {},
   "outputs": [],
   "source": [
    "def read_inputs_json():\n",
    "    with open('inputs.json', 'r') as openfile:\n",
    "        return json.load(openfile)"
   ]
  },
  {
   "cell_type": "code",
   "execution_count": null,
   "metadata": {},
   "outputs": [],
   "source": [
    "# save json\n",
    "with open(\"inputs.json\", \"w\") as outfile:\n",
    "    outfile.write(str(inputs_dict).replace(\"'\",'\"'))\n"
   ]
  },
  {
   "cell_type": "code",
   "execution_count": null,
   "metadata": {},
   "outputs": [],
   "source": [
    "# add data to json\n",
    "profile_1 = {'sheet_id':'1DTb87DtRRzZwFoPz-odPbCcNmEKGWKsUwYWQRpON68c'\n",
    "            ,'veepn':'false'\n",
    "            }\n",
    "inputs_json['1'] = profile_1\n",
    "inputs_json"
   ]
  },
  {
   "cell_type": "code",
   "execution_count": null,
   "metadata": {},
   "outputs": [],
   "source": []
  },
  {
   "cell_type": "code",
   "execution_count": null,
   "metadata": {},
   "outputs": [],
   "source": [
    "inputs_dict = read_inputs_json()\n",
    "inputs_dict"
   ]
  },
  {
   "cell_type": "code",
   "execution_count": null,
   "metadata": {},
   "outputs": [],
   "source": [
    "inputs_dict['1']['user'] = 'mtrebinonixon@gmail.com'"
   ]
  },
  {
   "cell_type": "code",
   "execution_count": 12,
   "metadata": {},
   "outputs": [
    {
     "data": {
      "text/plain": [
       "{'1': {'sheet_id': '1DTb87DtRRzZwFoPz-odPbCcNmEKGWKsUwYWQRpON68c',\n",
       "  'veepn': 'false',\n",
       "  'user': 'mtrebinonixon@gmail.com'}}"
      ]
     },
     "execution_count": 12,
     "metadata": {},
     "output_type": "execute_result"
    }
   ],
   "source": [
    "inputs_dict"
   ]
  },
  {
   "cell_type": "code",
   "execution_count": null,
   "metadata": {},
   "outputs": [],
   "source": [
    "driver"
   ]
  },
  {
   "cell_type": "code",
   "execution_count": 6,
   "metadata": {},
   "outputs": [],
   "source": [
    "driver.open_link(LINKEDIN_URL)"
   ]
  },
  {
   "attachments": {},
   "cell_type": "markdown",
   "metadata": {},
   "source": [
    "# Process"
   ]
  },
  {
   "cell_type": "code",
   "execution_count": 3,
   "metadata": {},
   "outputs": [],
   "source": [
    "LINKEDIN_URL = 'https://www.linkedin.com/'\n",
    "LINKEDIN_FEED_URL = 'https://www.linkedin.com/feed/'"
   ]
  },
  {
   "cell_type": "code",
   "execution_count": 18,
   "metadata": {},
   "outputs": [
    {
     "name": "stdout",
     "output_type": "stream",
     "text": [
      "Profile 1 -- user: mtrebinonixon@gmail.com -- sheet_id: 1DTb87DtRRzZwFoPz-odPbCcNmEKGWKsUwYWQRpON68c\n",
      "\n",
      "Choose an existing profile by entering ONLY the number\n",
      "or enter \"new\" to create a new profile\n",
      "or enter \"edit\" to edit the details of an existing profile\n"
     ]
    }
   ],
   "source": [
    "### get inputs saved in json\n",
    "inputs_dict = read_inputs_json()\n",
    "\n",
    "### ask user which profile he wants to load\n",
    "# print all profiles\n",
    "for key in inputs_dict.keys():\n",
    "    print(f\"Profile {key} -- user: {inputs_dict[key]['user']} -- sheet_id: {inputs_dict[key]['sheet_id']}\")\n",
    "print('')\n",
    "print('Choose an existing profile by entering ONLY the number')\n",
    "print('or enter \"new\" to create a new profile')\n",
    "print('or enter \"edit\" to edit the details of an existing profile')\n",
    "\n",
    "profile = input('')\n",
    "\n",
    "if profile == 'new':\n",
    "    print('')\n",
    "    print('A new profile is being created. Enter the following data:')\n",
    "    user = input('user:')\n",
    "    sheet_id = input('sheet_id:')\n",
    "\n",
    "    # set the number for this profile\n",
    "    for i in range(100):\n",
    "        if i <= 0: continue\n",
    "        elif str(i) in list(inputs_dict.keys()): continue\n",
    "        else:\n",
    "            profile = i\n",
    "            break\n",
    "    \n",
    "    # save data\n",
    "    profile_dict = {}\n",
    "    profile_dict['sheet_id'] = sheet_id\n",
    "    profile_dict['veepn'] = 'false'\n",
    "    profile_dict['user'] = user\n",
    "    inputs_dict[str(profile)] = profile_dict\n",
    "\n",
    "    print('New user successfully created!')\n",
    "    print(f\"Profile {profile} -- user: {user} -- sheet_id: {sheet_id}\")\n",
    "\n",
    "elif profile == 'edit':\n",
    "\n",
    "    sys.exit('edit capabilities not buit yet')\n",
    "\n",
    "else:\n",
    "    # check that entered number exists\n",
    "    if str(profile) not in list(inputs_dict.keys()): sys.exit(f'Could not find entered profile: {profile}')\n",
    "\n",
    "    # profile exists\n",
    "    # get profile data\n",
    "\n",
    "    sheet_id = inputs_dict[profile]['sheet_id']\n",
    "\n",
    "    \n",
    "### Open chromedriver\n",
    "\n",
    "try:\n",
    "    driver.quit()\n",
    "except:\n",
    "    pass\n",
    "\n",
    "driver = selenium_driver.open_chromedriver(int(profile))\n",
    "\n",
    "print(f\"Opened profile {profile} -- user: {inputs_dict[profile]['user']} -- sheet_id: {inputs_dict[profile]['sheet_id']}\")\n",
    "\n",
    "driver.open_link(LINKEDIN_URL, mode='in')\n",
    "\n",
    "# check if we already logged in or if we should ask user to make manual log-in\n",
    "\n",
    "linkedin_initial_urls = [\n",
    "     LINKEDIN_FEED_URL\n",
    "    ,LINKEDIN_URL\n",
    "]\n",
    "\n",
    "driver.wait_for_page_load(linkedin_initial_urls,30,1)\n",
    "\n",
    "if driver.current_url == LINKEDIN_FEED_URL:\n",
    "    # we are already logged in\n",
    "    pass\n",
    "\n",
    "elif driver.current_url == LINKEDIN_URL:\n",
    "    # we are not logged in, ask user to do manual log-in\n",
    "    do_log_in = input('Please log-in to your LinkedIn account. Make sure to save the check the \"save password\" option when you log in. Press ENTER when you are succesfully logged in.')\n",
    "\n",
    "    # verify logged in\n",
    "    driver.wait_for_page_load(LINKEDIN_URL,30,1)\n",
    "\n",
    "else:\n",
    "    sys.exit('1 Unexpected driver url')\n",
    "\n",
    "\n",
    "\n",
    "\n"
   ]
  },
  {
   "cell_type": "code",
   "execution_count": 10,
   "metadata": {},
   "outputs": [
    {
     "name": "stdout",
     "output_type": "stream",
     "text": [
      "Profile 1 -- user: mtrebinonixon@gmail.com -- sheet_id: 1DTb87DtRRzZwFoPz-odPbCcNmEKGWKsUwYWQRpON68c\n"
     ]
    }
   ],
   "source": [
    "for key in inputs_dict.keys():\n",
    "    print(f\"Profile {key} -- user: {inputs_dict[key]['user']} -- sheet_id: {inputs_dict[key]['sheet_id']}\")"
   ]
  },
  {
   "cell_type": "code",
   "execution_count": 11,
   "metadata": {},
   "outputs": [
    {
     "data": {
      "text/plain": [
       "['1']"
      ]
     },
     "execution_count": 11,
     "metadata": {},
     "output_type": "execute_result"
    }
   ],
   "source": [
    "list(inputs_dict.keys())"
   ]
  },
  {
   "cell_type": "code",
   "execution_count": 5,
   "metadata": {},
   "outputs": [
    {
     "name": "stdout",
     "output_type": "stream",
     "text": [
      "{\n",
      " \"1\": {\n",
      "  \"sheet_id\": \"1DTb87DtRRzZwFoPz-odPbCcNmEKGWKsUwYWQRpON68c\",\n",
      "  \"veepn\": \"false\",\n",
      "  \"user\": \"mtrebinonixon@gmail.com\"\n",
      " }\n",
      "}\n"
     ]
    }
   ],
   "source": [
    "print(json.dumps(inputs_dict, indent=1))\n"
   ]
  },
  {
   "cell_type": "code",
   "execution_count": 17,
   "metadata": {},
   "outputs": [],
   "source": [
    "driver.quit()"
   ]
  },
  {
   "cell_type": "code",
   "execution_count": null,
   "metadata": {},
   "outputs": [],
   "source": []
  }
 ],
 "metadata": {
  "kernelspec": {
   "display_name": ".venv",
   "language": "python",
   "name": "python3"
  },
  "language_info": {
   "codemirror_mode": {
    "name": "ipython",
    "version": 3
   },
   "file_extension": ".py",
   "mimetype": "text/x-python",
   "name": "python",
   "nbconvert_exporter": "python",
   "pygments_lexer": "ipython3",
   "version": "3.11.1"
  },
  "orig_nbformat": 4,
  "vscode": {
   "interpreter": {
    "hash": "ae9895707ea775b7af2fea66a014c0bb5293f1202e0ffa9986f52606e0fedff2"
   }
  }
 },
 "nbformat": 4,
 "nbformat_minor": 2
}
